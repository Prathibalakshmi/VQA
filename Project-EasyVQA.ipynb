{
 "cells": [
  {
   "cell_type": "code",
   "execution_count": 1,
   "metadata": {},
   "outputs": [
    {
     "name": "stdout",
     "output_type": "stream",
     "text": [
      "Requirement already satisfied: easy-vqa in c:\\users\\vedas\\anaconda3\\lib\\site-packages (1.0)\n"
     ]
    },
    {
     "name": "stderr",
     "output_type": "stream",
     "text": [
      "WARNING: Ignoring invalid distribution -pencv-python (c:\\users\\vedas\\anaconda3\\lib\\site-packages)\n",
      "WARNING: Ignoring invalid distribution -pencv-python (c:\\users\\vedas\\anaconda3\\lib\\site-packages)\n",
      "WARNING: Ignoring invalid distribution -pencv-python (c:\\users\\vedas\\anaconda3\\lib\\site-packages)\n",
      "WARNING: Ignoring invalid distribution -pencv-python (c:\\users\\vedas\\anaconda3\\lib\\site-packages)\n",
      "WARNING: Ignoring invalid distribution -pencv-python (c:\\users\\vedas\\anaconda3\\lib\\site-packages)\n",
      "WARNING: Ignoring invalid distribution -pencv-python (c:\\users\\vedas\\anaconda3\\lib\\site-packages)\n"
     ]
    }
   ],
   "source": [
    "!pip install easy-vqa"
   ]
  },
  {
   "cell_type": "code",
   "execution_count": 2,
   "metadata": {},
   "outputs": [
    {
     "name": "stderr",
     "output_type": "stream",
     "text": [
      "c:\\Users\\vedas\\anaconda3\\lib\\site-packages\\scipy\\__init__.py:155: UserWarning: A NumPy version >=1.18.5 and <1.25.0 is required for this version of SciPy (detected version 1.25.2\n",
      "  warnings.warn(f\"A NumPy version >={np_minversion} and <{np_maxversion}\"\n"
     ]
    }
   ],
   "source": [
    "import numpy as np\n",
    "import pandas as pd\n",
    "import os\n",
    "import tensorflow as tf\n",
    "from tensorflow import keras\n",
    "from easy_vqa import get_train_questions, get_test_questions\n",
    "from easy_vqa import get_train_image_paths, get_test_image_paths\n",
    "from matplotlib import pyplot as plt"
   ]
  },
  {
   "cell_type": "code",
   "execution_count": 3,
   "metadata": {},
   "outputs": [],
   "source": [
    "from tensorflow.keras.preprocessing.image import load_img, img_to_array\n",
    "from tensorflow.keras.utils import image_dataset_from_directory"
   ]
  },
  {
   "cell_type": "code",
   "execution_count": 4,
   "metadata": {},
   "outputs": [],
   "source": [
    "# Data Loading and Processing\n",
    "train_questions, train_answers, train_image_ids = get_train_questions()\n",
    "test_questions, test_answers, test_image_ids = get_test_questions()"
   ]
  },
  {
   "cell_type": "code",
   "execution_count": 5,
   "metadata": {},
   "outputs": [
    {
     "name": "stdout",
     "output_type": "stream",
     "text": [
      "what is the blue shape?\n",
      "rectangle\n",
      "0\n"
     ]
    }
   ],
   "source": [
    "print(train_questions[0]) \n",
    "print(train_answers[0])   \n",
    "print(train_image_ids[0]) "
   ]
  },
  {
   "cell_type": "code",
   "execution_count": 6,
   "metadata": {},
   "outputs": [
    {
     "name": "stdout",
     "output_type": "stream",
     "text": [
      "c:\\Users\\vedas\\anaconda3\\lib\\site-packages\\easy_vqa\\data/train/images\\1.png\n"
     ]
    }
   ],
   "source": [
    "train_image_paths = get_train_image_paths()\n",
    "test_image_paths = get_test_image_paths()\n",
    "\n",
    "print(train_image_paths[1])"
   ]
  },
  {
   "cell_type": "code",
   "execution_count": 7,
   "metadata": {},
   "outputs": [
    {
     "data": {
      "image/png": "[encoded data removed]",
      "text/plain": [
       "<PIL.PngImagePlugin.PngImageFile image mode=RGB size=64x64>"
      ]
     },
     "execution_count": 7,
     "metadata": {},
     "output_type": "execute_result"
    }
   ],
   "source": [
    "img = load_img(train_image_paths[1])\n",
    "img"
   ]
  },
  {
   "cell_type": "code",
   "execution_count": 8,
   "metadata": {},
   "outputs": [],
   "source": [
    "#Normalizing Image\n",
    "def normalize_img(image_path):\n",
    "    img = img_to_array(load_img(image_path))\n",
    "    return img / 255.0"
   ]
  },
  {
   "cell_type": "code",
   "execution_count": 9,
   "metadata": {},
   "outputs": [],
   "source": [
    "def read_images(paths):\n",
    "  # paths is a dict mapping image ID to image path\n",
    "  # Returns a dict mapping image ID to the processed image\n",
    "  ims = {}\n",
    "  for image_id, image_path in paths.items():\n",
    "    ims[image_id] = normalize_img(image_path)\n",
    "  return ims"
   ]
  },
  {
   "cell_type": "code",
   "execution_count": 10,
   "metadata": {},
   "outputs": [],
   "source": [
    "train_imgs = read_images(train_image_paths)\n",
    "test_imgs = read_images(test_image_paths)"
   ]
  },
  {
   "cell_type": "code",
   "execution_count": 11,
   "metadata": {},
   "outputs": [
    {
     "data": {
      "text/plain": [
       "array([[[0.972549  , 0.91764706, 0.9019608 ],\n",
       "        [0.972549  , 0.91764706, 0.9019608 ],\n",
       "        [0.972549  , 0.91764706, 0.9019608 ],\n",
       "        ...,\n",
       "        [0.972549  , 0.91764706, 0.9019608 ],\n",
       "        [0.972549  , 0.91764706, 0.9019608 ],\n",
       "        [0.972549  , 0.91764706, 0.9019608 ]],\n",
       "\n",
       "       [[0.972549  , 0.91764706, 0.9019608 ],\n",
       "        [0.972549  , 0.91764706, 0.9019608 ],\n",
       "        [0.972549  , 0.91764706, 0.9019608 ],\n",
       "        ...,\n",
       "        [0.972549  , 0.91764706, 0.9019608 ],\n",
       "        [0.972549  , 0.91764706, 0.9019608 ],\n",
       "        [0.972549  , 0.91764706, 0.9019608 ]],\n",
       "\n",
       "       [[0.972549  , 0.91764706, 0.9019608 ],\n",
       "        [0.972549  , 0.91764706, 0.9019608 ],\n",
       "        [0.972549  , 0.91764706, 0.9019608 ],\n",
       "        ...,\n",
       "        [0.972549  , 0.91764706, 0.9019608 ],\n",
       "        [0.972549  , 0.91764706, 0.9019608 ],\n",
       "        [0.972549  , 0.91764706, 0.9019608 ]],\n",
       "\n",
       "       ...,\n",
       "\n",
       "       [[0.972549  , 0.91764706, 0.9019608 ],\n",
       "        [0.972549  , 0.91764706, 0.9019608 ],\n",
       "        [0.972549  , 0.91764706, 0.9019608 ],\n",
       "        ...,\n",
       "        [0.972549  , 0.91764706, 0.9019608 ],\n",
       "        [0.972549  , 0.91764706, 0.9019608 ],\n",
       "        [0.972549  , 0.91764706, 0.9019608 ]],\n",
       "\n",
       "       [[0.972549  , 0.91764706, 0.9019608 ],\n",
       "        [0.972549  , 0.91764706, 0.9019608 ],\n",
       "        [0.972549  , 0.91764706, 0.9019608 ],\n",
       "        ...,\n",
       "        [0.972549  , 0.91764706, 0.9019608 ],\n",
       "        [0.972549  , 0.91764706, 0.9019608 ],\n",
       "        [0.972549  , 0.91764706, 0.9019608 ]],\n",
       "\n",
       "       [[0.972549  , 0.91764706, 0.9019608 ],\n",
       "        [0.972549  , 0.91764706, 0.9019608 ],\n",
       "        [0.972549  , 0.91764706, 0.9019608 ],\n",
       "        ...,\n",
       "        [0.972549  , 0.91764706, 0.9019608 ],\n",
       "        [0.972549  , 0.91764706, 0.9019608 ],\n",
       "        [0.972549  , 0.91764706, 0.9019608 ]]], dtype=float32)"
      ]
     },
     "execution_count": 11,
     "metadata": {},
     "output_type": "execute_result"
    }
   ],
   "source": [
    "train_imgs[0]"
   ]
  },
  {
   "cell_type": "code",
   "execution_count": 12,
   "metadata": {},
   "outputs": [
    {
     "data": {
      "text/plain": [
       "(64, 64, 3)"
      ]
     },
     "execution_count": 12,
     "metadata": {},
     "output_type": "execute_result"
    }
   ],
   "source": [
    "train_imgs[0].shape  "
   ]
  },
  {
   "cell_type": "code",
   "execution_count": 13,
   "metadata": {},
   "outputs": [
    {
     "name": "stdout",
     "output_type": "stream",
     "text": [
      "38575\n",
      "4000\n"
     ]
    }
   ],
   "source": [
    "print(len(train_image_ids))\n",
    "print(len(train_imgs))"
   ]
  },
  {
   "cell_type": "code",
   "execution_count": 14,
   "metadata": {},
   "outputs": [],
   "source": [
    "# Adjusting train and test images in order of train and test questions\n",
    "\n",
    "xtrain = np.asarray([train_imgs[id] for id in train_image_ids])\n",
    "xtest = np.asarray([test_imgs[id] for id in test_image_ids])"
   ]
  },
  {
   "cell_type": "code",
   "execution_count": 15,
   "metadata": {},
   "outputs": [
    {
     "data": {
      "text/plain": [
       "(38575, 64, 64, 3)"
      ]
     },
     "execution_count": 15,
     "metadata": {},
     "output_type": "execute_result"
    }
   ],
   "source": [
    "xtrain.shape"
   ]
  },
  {
   "cell_type": "code",
   "execution_count": 16,
   "metadata": {},
   "outputs": [
    {
     "data": {
      "text/plain": [
       "numpy.ndarray"
      ]
     },
     "execution_count": 16,
     "metadata": {},
     "output_type": "execute_result"
    }
   ],
   "source": [
    "type(xtrain)"
   ]
  },
  {
   "cell_type": "code",
   "execution_count": 17,
   "metadata": {},
   "outputs": [],
   "source": [
    "### Converting answers to vectors\n",
    "from easy_vqa import get_answers\n",
    "from tensorflow.keras.utils import to_categorical"
   ]
  },
  {
   "cell_type": "code",
   "execution_count": 18,
   "metadata": {},
   "outputs": [
    {
     "data": {
      "text/plain": [
       "['circle',\n",
       " 'green',\n",
       " 'red',\n",
       " 'gray',\n",
       " 'yes',\n",
       " 'teal',\n",
       " 'black',\n",
       " 'rectangle',\n",
       " 'yellow',\n",
       " 'triangle',\n",
       " 'brown',\n",
       " 'blue',\n",
       " 'no']"
      ]
     },
     "execution_count": 18,
     "metadata": {},
     "output_type": "execute_result"
    }
   ],
   "source": [
    "answers_list = get_answers()\n",
    "answers_list"
   ]
  },
  {
   "cell_type": "code",
   "execution_count": 20,
   "metadata": {},
   "outputs": [
    {
     "name": "stdout",
     "output_type": "stream",
     "text": [
      "[0. 0. 0. 0. 0. 0. 0. 0. 0. 0. 0. 0. 1.]\n"
     ]
    }
   ],
   "source": [
    "ytrain = to_categorical(trainA)\n",
    "ytest = to_categorical(testA)\n",
    "\n",
    "print(ytrain[100])"
   ]
  },
  {
   "cell_type": "code",
   "execution_count": 21,
   "metadata": {},
   "outputs": [],
   "source": [
    "from tensorflow.keras.layers import Input, Conv2D, MaxPooling2D, Flatten, BatchNormalization, Dense, Dropout"
   ]
  },
  {
   "cell_type": "code",
   "execution_count": 22,
   "metadata": {},
   "outputs": [],
   "source": [
    "# Building a Model\n",
    "\n",
    "ip = Input(shape=(64, 64, 3))\n",
    "\n",
    "x = Conv2D(32, kernel_size=(3, 3), padding='same', activation='relu')(ip)\n",
    "x = BatchNormalization()(x)\n",
    "x = MaxPooling2D(pool_size = (2, 2))(x)\n",
    "x = Dropout(0.3)(x)\n",
    "\n",
    "x = Conv2D(64, kernel_size=(3, 3), padding='same', activation='relu')(x)\n",
    "x = BatchNormalization()(x)\n",
    "x = MaxPooling2D(pool_size = (2, 2))(x)\n",
    "x = Dropout(0.3)(x)\n",
    "\n",
    "x = Flatten()(x)\n",
    "\n",
    "img_op = Dense(32, activation = 'relu')(x)"
   ]
  },
  {
   "cell_type": "code",
   "execution_count": 23,
   "metadata": {},
   "outputs": [],
   "source": [
    "#Text Tokenization\n",
    "\n",
    "from tensorflow.keras.preprocessing.text import Tokenizer\n",
    "from tensorflow.keras.preprocessing.sequence import pad_sequences"
   ]
  },
  {
   "cell_type": "code",
   "execution_count": 24,
   "metadata": {},
   "outputs": [
    {
     "name": "stdout",
     "output_type": "stream",
     "text": [
      "32\n"
     ]
    }
   ],
   "source": [
    "train_unique_words = []\n",
    "train_unique_words = set(train_unique_words)\n",
    "\n",
    "for idx in range(len(train_questions)):\n",
    "    sentence = train_questions[idx].split()\n",
    "    for word in sentence:\n",
    "        train_unique_words.add(word)\n",
    "        \n",
    "print(len(train_unique_words))"
   ]
  },
  {
   "cell_type": "code",
   "execution_count": 25,
   "metadata": {},
   "outputs": [
    {
     "data": {
      "text/plain": [
       "{'a',\n",
       " 'black',\n",
       " 'blue',\n",
       " 'brown',\n",
       " 'circle',\n",
       " 'circle?',\n",
       " 'color',\n",
       " 'contain',\n",
       " 'contain?',\n",
       " 'does',\n",
       " 'gray',\n",
       " 'green',\n",
       " 'image',\n",
       " 'image?',\n",
       " 'in',\n",
       " 'is',\n",
       " 'no',\n",
       " 'not',\n",
       " 'of',\n",
       " 'present?',\n",
       " 'rectangle',\n",
       " 'rectangle?',\n",
       " 'red',\n",
       " 'shape',\n",
       " 'shape?',\n",
       " 'teal',\n",
       " 'the',\n",
       " 'there',\n",
       " 'triangle',\n",
       " 'triangle?',\n",
       " 'what',\n",
       " 'yellow'}"
      ]
     },
     "execution_count": 25,
     "metadata": {},
     "output_type": "execute_result"
    }
   ],
   "source": [
    "train_unique_words"
   ]
  },
  {
   "cell_type": "code",
   "execution_count": 26,
   "metadata": {},
   "outputs": [
    {
     "name": "stdout",
     "output_type": "stream",
     "text": [
      "32\n"
     ]
    }
   ],
   "source": [
    "test_unique_words = []\n",
    "test_unique_words = set(test_unique_words)\n",
    "\n",
    "for idx in range(len(test_questions)):\n",
    "    sentence = train_questions[idx].split()\n",
    "    for word in sentence:\n",
    "        test_unique_words.add(word)\n",
    "        \n",
    "print(len(test_unique_words))"
   ]
  },
  {
   "cell_type": "code",
   "execution_count": 27,
   "metadata": {},
   "outputs": [
    {
     "data": {
      "text/plain": [
       "{'a',\n",
       " 'black',\n",
       " 'blue',\n",
       " 'brown',\n",
       " 'circle',\n",
       " 'circle?',\n",
       " 'color',\n",
       " 'contain',\n",
       " 'contain?',\n",
       " 'does',\n",
       " 'gray',\n",
       " 'green',\n",
       " 'image',\n",
       " 'image?',\n",
       " 'in',\n",
       " 'is',\n",
       " 'no',\n",
       " 'not',\n",
       " 'of',\n",
       " 'present?',\n",
       " 'rectangle',\n",
       " 'rectangle?',\n",
       " 'red',\n",
       " 'shape',\n",
       " 'shape?',\n",
       " 'teal',\n",
       " 'the',\n",
       " 'there',\n",
       " 'triangle',\n",
       " 'triangle?',\n",
       " 'what',\n",
       " 'yellow'}"
      ]
     },
     "execution_count": 27,
     "metadata": {},
     "output_type": "execute_result"
    }
   ],
   "source": [
    "test_unique_words "
   ]
  },
  {
   "cell_type": "code",
   "execution_count": 28,
   "metadata": {},
   "outputs": [],
   "source": [
    "tokenizer = Tokenizer(num_words = 35, oov_token = '<OOV>')\n",
    "tokenizer.fit_on_texts(train_questions)"
   ]
  },
  {
   "cell_type": "code",
   "execution_count": 29,
   "metadata": {},
   "outputs": [
    {
     "data": {
      "text/plain": [
       "{'<OOV>': 1,\n",
       " 'is': 2,\n",
       " 'shape': 3,\n",
       " 'the': 4,\n",
       " 'a': 5,\n",
       " 'image': 6,\n",
       " 'there': 7,\n",
       " 'not': 8,\n",
       " 'what': 9,\n",
       " 'present': 10,\n",
       " 'does': 11,\n",
       " 'contain': 12,\n",
       " 'in': 13,\n",
       " 'color': 14,\n",
       " 'no': 15,\n",
       " 'circle': 16,\n",
       " 'rectangle': 17,\n",
       " 'triangle': 18,\n",
       " 'brown': 19,\n",
       " 'yellow': 20,\n",
       " 'gray': 21,\n",
       " 'teal': 22,\n",
       " 'black': 23,\n",
       " 'red': 24,\n",
       " 'green': 25,\n",
       " 'blue': 26,\n",
       " 'of': 27}"
      ]
     },
     "execution_count": 29,
     "metadata": {},
     "output_type": "execute_result"
    }
   ],
   "source": [
    "word_index = tokenizer.word_index\n",
    "word_index"
   ]
  },
  {
   "cell_type": "code",
   "execution_count": 30,
   "metadata": {},
   "outputs": [],
   "source": [
    "train_seq = tokenizer.texts_to_sequences(train_questions)\n",
    "test_seq = tokenizer.texts_to_sequences(test_questions)"
   ]
  },
  {
   "cell_type": "code",
   "execution_count": 31,
   "metadata": {},
   "outputs": [
    {
     "name": "stdout",
     "output_type": "stream",
     "text": [
      "[9, 2, 4, 26, 3]\n",
      "what is the blue shape?\n"
     ]
    }
   ],
   "source": [
    "print(train_seq[0])\n",
    "print(train_questions[0])"
   ]
  },
  {
   "cell_type": "code",
   "execution_count": 32,
   "metadata": {},
   "outputs": [],
   "source": [
    "padded_train_seq = pad_sequences(train_seq, padding = 'post')\n",
    "padded_test_seq = pad_sequences(test_seq, padding = 'post')"
   ]
  },
  {
   "cell_type": "code",
   "execution_count": 33,
   "metadata": {},
   "outputs": [
    {
     "data": {
      "text/plain": [
       "9"
      ]
     },
     "execution_count": 33,
     "metadata": {},
     "output_type": "execute_result"
    }
   ],
   "source": [
    "len(padded_train_seq[69]) # length of the input sequence"
   ]
  },
  {
   "cell_type": "code",
   "execution_count": 34,
   "metadata": {},
   "outputs": [
    {
     "data": {
      "text/plain": [
       "(38575, 9)"
      ]
     },
     "execution_count": 34,
     "metadata": {},
     "output_type": "execute_result"
    }
   ],
   "source": [
    "padded_train_seq.shape"
   ]
  },
  {
   "cell_type": "code",
   "execution_count": 35,
   "metadata": {},
   "outputs": [
    {
     "data": {
      "text/plain": [
       "numpy.ndarray"
      ]
     },
     "execution_count": 35,
     "metadata": {},
     "output_type": "execute_result"
    }
   ],
   "source": [
    "type(padded_train_seq)"
   ]
  },
  {
   "cell_type": "code",
   "execution_count": 36,
   "metadata": {},
   "outputs": [
    {
     "data": {
      "text/plain": [
       "28"
      ]
     },
     "execution_count": 36,
     "metadata": {},
     "output_type": "execute_result"
    }
   ],
   "source": [
    "vocab_size = len(word_index) + 1\n",
    "vocab_size"
   ]
  },
  {
   "cell_type": "code",
   "execution_count": 37,
   "metadata": {},
   "outputs": [],
   "source": [
    "#Texts Model\n",
    "\n",
    "from tensorflow.keras.layers import Embedding, LSTM, Dense, Input\n",
    "from tensorflow.keras.layers import Multiply"
   ]
  },
  {
   "cell_type": "code",
   "execution_count": 38,
   "metadata": {},
   "outputs": [],
   "source": [
    "t_input = Input(shape = (9, ))\n",
    "y = Embedding(vocab_size, 64)(t_input)\n",
    "y = LSTM(64)(y)\n",
    "t_op = Dense(32, activation = 'relu')(y)"
   ]
  },
  {
   "cell_type": "code",
   "execution_count": 39,
   "metadata": {},
   "outputs": [],
   "source": [
    "output = Multiply()([img_op, t_op])\n",
    "output = Dense(32, activation = 'relu')(output)\n",
    "output = Dense(13, activation = 'softmax')(output)"
   ]
  },
  {
   "cell_type": "code",
   "execution_count": 40,
   "metadata": {},
   "outputs": [],
   "source": [
    "#Combining the Image and Text Model\n",
    "from tensorflow.keras.models import Model\n",
    "from tensorflow.keras.optimizers import Adam"
   ]
  },
  {
   "cell_type": "code",
   "execution_count": 41,
   "metadata": {},
   "outputs": [],
   "source": [
    "model = Model(inputs = [ip, t_input], outputs = output)"
   ]
  },
  {
   "cell_type": "code",
   "execution_count": 42,
   "metadata": {},
   "outputs": [],
   "source": [
    "model.compile(optimizer = Adam(learning_rate = 5e-4), loss = 'categorical_crossentropy', metrics = ['accuracy'])"
   ]
  },
  {
   "cell_type": "code",
   "execution_count": 43,
   "metadata": {},
   "outputs": [
    {
     "name": "stdout",
     "output_type": "stream",
     "text": [
      "Model: \"model\"\n",
      "__________________________________________________________________________________________________\n",
      " Layer (type)                   Output Shape         Param #     Connected to                     \n",
      "==================================================================================================\n",
      " input_1 (InputLayer)           [(None, 64, 64, 3)]  0           []                               \n",
      "                                                                                                  \n",
      " conv2d (Conv2D)                (None, 64, 64, 32)   896         ['input_1[0][0]']                \n",
      "                                                                                                  \n",
      " batch_normalization (BatchNorm  (None, 64, 64, 32)  128         ['conv2d[0][0]']                 \n",
      " alization)                                                                                       \n",
      "                                                                                                  \n",
      " max_pooling2d (MaxPooling2D)   (None, 32, 32, 32)   0           ['batch_normalization[0][0]']    \n",
      "                                                                                                  \n",
      " dropout (Dropout)              (None, 32, 32, 32)   0           ['max_pooling2d[0][0]']          \n",
      "                                                                                                  \n",
      " conv2d_1 (Conv2D)              (None, 32, 32, 64)   18496       ['dropout[0][0]']                \n",
      "                                                                                                  \n",
      " batch_normalization_1 (BatchNo  (None, 32, 32, 64)  256         ['conv2d_1[0][0]']               \n",
      " rmalization)                                                                                     \n",
      "                                                                                                  \n",
      " max_pooling2d_1 (MaxPooling2D)  (None, 16, 16, 64)  0           ['batch_normalization_1[0][0]']  \n",
      "                                                                                                  \n",
      " input_2 (InputLayer)           [(None, 9)]          0           []                               \n",
      "                                                                                                  \n",
      " dropout_1 (Dropout)            (None, 16, 16, 64)   0           ['max_pooling2d_1[0][0]']        \n",
      "                                                                                                  \n",
      " embedding (Embedding)          (None, 9, 64)        1792        ['input_2[0][0]']                \n",
      "                                                                                                  \n",
      " flatten (Flatten)              (None, 16384)        0           ['dropout_1[0][0]']              \n",
      "                                                                                                  \n",
      " lstm (LSTM)                    (None, 64)           33024       ['embedding[0][0]']              \n",
      "                                                                                                  \n",
      " dense (Dense)                  (None, 32)           524320      ['flatten[0][0]']                \n",
      "                                                                                                  \n",
      " dense_1 (Dense)                (None, 32)           2080        ['lstm[0][0]']                   \n",
      "                                                                                                  \n",
      " multiply (Multiply)            (None, 32)           0           ['dense[0][0]',                  \n",
      "                                                                  'dense_1[0][0]']                \n",
      "                                                                                                  \n",
      " dense_2 (Dense)                (None, 32)           1056        ['multiply[0][0]']               \n",
      "                                                                                                  \n",
      " dense_3 (Dense)                (None, 13)           429         ['dense_2[0][0]']                \n",
      "                                                                                                  \n",
      "==================================================================================================\n",
      "Total params: 582,477\n",
      "Trainable params: 582,285\n",
      "Non-trainable params: 192\n",
      "__________________________________________________________________________________________________\n"
     ]
    }
   ],
   "source": [
    "model.summary()"
   ]
  },
  {
   "cell_type": "code",
   "execution_count": 44,
   "metadata": {},
   "outputs": [],
   "source": [
    "#Training the Model\n",
    "from tensorflow.keras.callbacks import ModelCheckpoint, ReduceLROnPlateau\n",
    "\n",
    "checkpoint = ModelCheckpoint('model.h5', save_best_only=True)\n",
    "reduce_lr = ReduceLROnPlateau(\n",
    "    monitor = 'val_loss',\n",
    "    factor = 0.2,\n",
    "    patience = 3,\n",
    "    min_lr = 1e-5\n",
    ")\n",
    "\n",
    "callbacks = [checkpoint, reduce_lr]"
   ]
  },
  {
   "cell_type": "code",
   "execution_count": 45,
   "metadata": {},
   "outputs": [
    {
     "name": "stdout",
     "output_type": "stream",
     "text": [
      "Epoch 1/3\n",
      "603/603 [==============================] - 114s 186ms/step - loss: 0.8200 - accuracy: 0.6712 - val_loss: 0.8153 - val_accuracy: 0.7100 - lr: 5.0000e-04\n",
      "Epoch 2/3\n",
      "603/603 [==============================] - 105s 174ms/step - loss: 0.4982 - accuracy: 0.7880 - val_loss: 1.3755 - val_accuracy: 0.7181 - lr: 5.0000e-04\n",
      "Epoch 3/3\n",
      "603/603 [==============================] - 113s 188ms/step - loss: 0.4524 - accuracy: 0.8080 - val_loss: 1.1003 - val_accuracy: 0.7551 - lr: 5.0000e-04\n"
     ]
    }
   ],
   "source": [
    "history = model.fit(\n",
    "    [xtrain, padded_train_seq],\n",
    "    ytrain,\n",
    "    validation_data=([xtest, padded_test_seq], ytest),\n",
    "    batch_size = 64,\n",
    "    shuffle = True,\n",
    "    epochs=3,\n",
    "    callbacks = callbacks,\n",
    ")"
   ]
  },
  {
   "cell_type": "code",
   "execution_count": 46,
   "metadata": {},
   "outputs": [
    {
     "name": "stdout",
     "output_type": "stream",
     "text": [
      "dict_keys(['loss', 'accuracy', 'val_loss', 'val_accuracy', 'lr'])\n"
     ]
    },
    {
     "data": {
      "image/png": "[encoded data removed]",
      "text/plain": [
       "<Figure size 640x480 with 1 Axes>"
      ]
     },
     "metadata": {},
     "output_type": "display_data"
    },
    {
     "data": {
      "image/png": "[encoded data removed]",
      "text/plain": [
       "<Figure size 640x480 with 1 Axes>"
      ]
     },
     "metadata": {},
     "output_type": "display_data"
    }
   ],
   "source": [
    "# list all data in history\n",
    "print(history.history.keys())\n",
    "# summarize history for accuracy\n",
    "plt.plot(history.history['accuracy'])\n",
    "plt.plot(history.history['val_accuracy'])\n",
    "plt.title('model accuracy')\n",
    "plt.ylabel('accuracy')\n",
    "plt.xlabel('epoch')\n",
    "plt.legend(['train', 'test'], loc='upper left')\n",
    "plt.show()\n",
    "# summarize history for loss\n",
    "plt.plot(history.history['loss'])\n",
    "plt.plot(history.history['val_loss'])\n",
    "plt.title('model loss')\n",
    "plt.ylabel('loss')\n",
    "plt.xlabel('epoch')\n",
    "plt.legend(['train', 'test'], loc='upper left')\n",
    "plt.show()"
   ]
  }
 ],
 "metadata": {
  "kernelspec": {
   "display_name": "Python 3 (ipykernel)",
   "language": "python",
   "name": "python3"
  },
  "language_info": {
   "codemirror_mode": {
    "name": "ipython",
    "version": 3
   },
   "file_extension": ".py",
   "mimetype": "text/x-python",
   "name": "python",
   "nbconvert_exporter": "python",
   "pygments_lexer": "ipython3",
   "version": "3.10.9"
  }
 },
 "nbformat": 4,
 "nbformat_minor": 2
}
